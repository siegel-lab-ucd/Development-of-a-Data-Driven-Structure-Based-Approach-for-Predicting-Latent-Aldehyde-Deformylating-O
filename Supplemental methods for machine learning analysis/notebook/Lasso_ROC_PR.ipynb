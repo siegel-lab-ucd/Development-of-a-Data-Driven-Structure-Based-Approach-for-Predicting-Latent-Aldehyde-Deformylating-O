{
 "cells": [
  {
   "cell_type": "code",
   "execution_count": 412,
   "metadata": {},
   "outputs": [
    {
     "name": "stdout",
     "output_type": "stream",
     "text": [
      "The autoreload extension is already loaded. To reload it, use:\n",
      "  %reload_ext autoreload\n"
     ]
    }
   ],
   "source": [
    "%load_ext autoreload\n",
    "%autoreload 2"
   ]
  },
  {
   "cell_type": "code",
   "execution_count": 413,
   "metadata": {},
   "outputs": [],
   "source": [
    "from sklearn import linear_model\n",
    "from helper.plot_pr_roc import plot_pr_curve, plot_roc_curve\n",
    "import warnings\n",
    "warnings.filterwarnings(\"ignore\")\n",
    "from config.paths import TRAIN_FILE\n",
    "from config.paths import OUT_FIG_DIR, OUT_DATA_DIR\n",
    "from sklearn.metrics import roc_curve, auc\n",
    "from lib.helper import prepare_data\n",
    "from lib.agent import Agent"
   ]
  },
  {
   "cell_type": "code",
   "execution_count": 414,
   "metadata": {},
   "outputs": [],
   "source": [
    "df = pd.read_csv(TRAIN_FILE).drop(columns=['Gene_name'])\n",
    "df.iloc[:, :7] = df.iloc[:, :7] - df.iloc[:, :7].min()\n",
    "df.iloc[:, :7]  /= df.iloc[:, :7].max()"
   ]
  },
  {
   "cell_type": "code",
   "execution_count": 415,
   "metadata": {},
   "outputs": [],
   "source": [
    "df_train = df[df.Category==\"Training set\"].drop(columns=[\"Category\"])\n",
    "df_test = df[df.Category!=\"Training set\"].drop(columns=[\"Category\"])"
   ]
  },
  {
   "cell_type": "markdown",
   "metadata": {
    "scrolled": false
   },
   "source": [
    "df_train, df_test = prepare_data(TRAIN_FILE)"
   ]
  },
  {
   "cell_type": "code",
   "execution_count": 416,
   "metadata": {},
   "outputs": [],
   "source": [
    "agent = Agent(df_train, df_test, costs=[1, 5, 10, 15, 100, 100], bootstrapping=False)\n",
    "agent.run()"
   ]
  },
  {
   "cell_type": "code",
   "execution_count": 417,
   "metadata": {},
   "outputs": [],
   "source": [
    "y_hat_pycharm = agent.y_hat_test"
   ]
  },
  {
   "cell_type": "code",
   "execution_count": 418,
   "metadata": {},
   "outputs": [],
   "source": [
    "agent2 = Agent(df_train, df_test, costs=[1, 5, 10, 15, 100, 100], bootstrapping=False)\n",
    "agent2.run()"
   ]
  },
  {
   "cell_type": "code",
   "execution_count": 419,
   "metadata": {},
   "outputs": [],
   "source": [
    "df[\"prediction\"] = np.concatenate([agent.y_hat_train, agent.y_hat_test])"
   ]
  },
  {
   "cell_type": "code",
   "execution_count": 420,
   "metadata": {
    "scrolled": true
   },
   "outputs": [],
   "source": [
    "res_path = OUT_DATA_DIR + \"/prediction.csv\"\n",
    "df.to_csv(res_path)"
   ]
  },
  {
   "cell_type": "code",
   "execution_count": 421,
   "metadata": {},
   "outputs": [],
   "source": [
    "pred = pd.DataFrame({'pre': agent.y_hat_test, 'truth': agent.y_test})"
   ]
  },
  {
   "cell_type": "code",
   "execution_count": 422,
   "metadata": {},
   "outputs": [],
   "source": [
    "pred.sort_values(by=\"pre\", inplace=True)"
   ]
  },
  {
   "cell_type": "code",
   "execution_count": 423,
   "metadata": {},
   "outputs": [],
   "source": [
    "def agent_one_dataset(df_train, df_test, feature=\"All feature\"):\n",
    "    agent = Agent(df_train, df_test, costs=[1, 5, 10, 15, 100, 100])\n",
    "    agent.run()\n",
    "    \n",
    "    which_parts = [\"train\", \"test\"]\n",
    "    for which_part in which_parts:\n",
    "        save_dir = OUT_FIG_DIR + \"/%s\" % which_part\n",
    "        os.makedirs(save_dir, exist_ok=True)\n",
    "        save_path = save_dir + \"/%s_roc.pdf\" % feature\n",
    "        if which_part == \"test\":\n",
    "            auc_roc_test = plot_roc_curve(agent.y_test, agent.y_hat_test,\n",
    "                                          save_path, feature)\n",
    "        else:\n",
    "            auc_roc_train = plot_roc_curve(agent.y_train, agent.y_hat_train,\n",
    "                                           save_path, feature)\n",
    "            \n",
    "    for which_part in which_parts:\n",
    "        save_dir = OUT_FIG_DIR + \"/%s\" % which_part\n",
    "        os.makedirs(save_dir, exist_ok=True)\n",
    "        save_path = save_dir + \"/%s_pr.pdf\" % feature\n",
    "        if which_part == \"test\":\n",
    "            auc_pr_test = plot_pr_curve(agent.y_test, agent.y_hat_test,\n",
    "                                        save_path, feature)\n",
    "        else:\n",
    "            auc_pr_train = plot_pr_curve(agent.y_train, agent.y_hat_train,\n",
    "                                        save_path, feature)\n",
    "            \n",
    "    return auc_roc_train, auc_pr_train, auc_roc_test, auc_pr_test"
   ]
  },
  {
   "cell_type": "code",
   "execution_count": 424,
   "metadata": {},
   "outputs": [],
   "source": [
    "aucs = []\n",
    "features = [\"all_features\"]\n",
    "results = agent_one_dataset(df_train, df_test, feature=\"\")\n",
    "aucs.append(results)"
   ]
  },
  {
   "cell_type": "code",
   "execution_count": null,
   "metadata": {},
   "outputs": [],
   "source": []
  }
 ],
 "metadata": {
  "kernelspec": {
   "display_name": "Python 3",
   "language": "python",
   "name": "python3"
  },
  "language_info": {
   "codemirror_mode": {
    "name": "ipython",
    "version": 3
   },
   "file_extension": ".py",
   "mimetype": "text/x-python",
   "name": "python",
   "nbconvert_exporter": "python",
   "pygments_lexer": "ipython3",
   "version": "3.6.8"
  }
 },
 "nbformat": 4,
 "nbformat_minor": 2
}
