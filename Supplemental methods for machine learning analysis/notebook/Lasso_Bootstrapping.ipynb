{
 "cells": [
  {
   "cell_type": "code",
   "execution_count": 131,
   "metadata": {},
   "outputs": [
    {
     "name": "stdout",
     "output_type": "stream",
     "text": [
      "The autoreload extension is already loaded. To reload it, use:\n",
      "  %reload_ext autoreload\n"
     ]
    }
   ],
   "source": [
    "%load_ext autoreload\n",
    "%autoreload 2"
   ]
  },
  {
   "cell_type": "code",
   "execution_count": 132,
   "metadata": {},
   "outputs": [],
   "source": [
    "from sklearn import linear_model\n",
    "from helper.plot_pr_roc import plot_pr_curve, plot_roc_curve\n",
    "import warnings\n",
    "warnings.filterwarnings(\"ignore\")\n",
    "import matplotlib\n",
    "font = {'size': 10}\n",
    "matplotlib.rc('font', **font)\n",
    "matplotlib.rcParams['axes.linewidth'] = 0.5\n",
    "\n",
    "\n",
    "from config.paths import TRAIN_FILE\n",
    "from config.paths import OUT_FIG_DIR, OUT_DATA_DIR\n",
    "from lib.agent import Agent\n",
    "from lib.helper import bootstrapping, prepare_data\n",
    "from tqdm import tqdm\n",
    "import matplotlib.pyplot as plt"
   ]
  },
  {
   "cell_type": "code",
   "execution_count": 133,
   "metadata": {
    "scrolled": true
   },
   "outputs": [
    {
     "data": {
      "text/plain": [
       "'..//data/Sept-2019-ML-processing.csv'"
      ]
     },
     "execution_count": 133,
     "metadata": {},
     "output_type": "execute_result"
    }
   ],
   "source": [
    "TRAIN_FILE"
   ]
  },
  {
   "cell_type": "code",
   "execution_count": 134,
   "metadata": {},
   "outputs": [],
   "source": [
    "df = pd.read_csv(TRAIN_FILE).drop(columns=['Gene_name'])"
   ]
  },
  {
   "cell_type": "code",
   "execution_count": 135,
   "metadata": {
    "scrolled": false
   },
   "outputs": [],
   "source": [
    "df = pd.read_csv(TRAIN_FILE).drop(columns=['Gene_name'])\n",
    "df_train, df_test = prepare_data(TRAIN_FILE) "
   ]
  },
  {
   "cell_type": "code",
   "execution_count": 136,
   "metadata": {},
   "outputs": [
    {
     "name": "stderr",
     "output_type": "stream",
     "text": [
      "100%|██████████| 500/500 [14:08<00:00,  1.62s/it]\n"
     ]
    }
   ],
   "source": [
    "weights = []\n",
    "for seed in tqdm(range(500)):\n",
    "    data_train = bootstrapping(df_train, seed)\n",
    "    agent = Agent(data_train, df_test, costs=[1, 5, 10, 15, 100, 100], bootstrapping=True)\n",
    "    agent.run()\n",
    "    weights.append(agent.model.coef_[0,: ])"
   ]
  },
  {
   "cell_type": "code",
   "execution_count": 137,
   "metadata": {},
   "outputs": [],
   "source": [
    "weights = np.abs(np.stack(weights))\n",
    "weights = pd.DataFrame(weights).T\n",
    "weights.index = df_train.columns[:-1]\n",
    "weights['sum'] = weights.sum(axis=1)\n",
    "weights.sort_values(by=['sum'], inplace=True)"
   ]
  },
  {
   "cell_type": "code",
   "execution_count": 138,
   "metadata": {},
   "outputs": [],
   "source": [
    "weight_path = OUT_DATA_DIR + \"/weights.csv\""
   ]
  },
  {
   "cell_type": "code",
   "execution_count": 139,
   "metadata": {},
   "outputs": [],
   "source": [
    "weights.to_csv(weight_path)"
   ]
  },
  {
   "cell_type": "code",
   "execution_count": 140,
   "metadata": {},
   "outputs": [],
   "source": [
    "w_mean = np.mean(weights.iloc[:, :-1], axis=1)\n",
    "w_std = np.std(weights.iloc[:, :-1], axis=1)/np.sqrt(weights.shape[1]-1)\n",
    "features = weights.index"
   ]
  },
  {
   "cell_type": "code",
   "execution_count": 141,
   "metadata": {},
   "outputs": [],
   "source": [
    "fig_path = OUT_FIG_DIR + \"/weight.pdf\""
   ]
  },
  {
   "cell_type": "code",
   "execution_count": 142,
   "metadata": {},
   "outputs": [
    {
     "data": {
      "image/png": "[encoded data removed]",
      "text/plain": [
       "<Figure size 180x288 with 1 Axes>"
      ]
     },
     "metadata": {
      "needs_background": "light"
     },
     "output_type": "display_data"
    }
   ],
   "source": [
    "fig, ax = plt.subplots(figsize=(2.5, 4))\n",
    "\n",
    "pos = np.arange(w_mean.shape[0])\n",
    "error = w_std\n",
    "thickness = 0.5\n",
    "\n",
    "ax.barh(pos, w_mean, xerr=error, align='center', color=['#8370BC'] * 4,\n",
    "        edgecolor='black',linewidth=thickness, alpha=0.7, \n",
    "        error_kw=dict(ecolor='black', lw=thickness, capsize=4, capthick=thickness))\n",
    "\n",
    "ax.set_yticks(pos)\n",
    "ax.set_yticklabels(features)\n",
    "ax.xaxis.tick_top()\n",
    "ax.spines['bottom'].set_visible(False)\n",
    "ax.spines['right'].set_visible(False)\n",
    "ax.spines['left'].set_visible(False)\n",
    "ax.set_xlim(0, 8)\n",
    "plt.savefig(fig_path, bbox_inches='tight')"
   ]
  },
  {
   "cell_type": "code",
   "execution_count": null,
   "metadata": {},
   "outputs": [],
   "source": []
  }
 ],
 "metadata": {
  "kernelspec": {
   "display_name": "Python 3",
   "language": "python",
   "name": "python3"
  },
  "language_info": {
   "codemirror_mode": {
    "name": "ipython",
    "version": 3
   },
   "file_extension": ".py",
   "mimetype": "text/x-python",
   "name": "python",
   "nbconvert_exporter": "python",
   "pygments_lexer": "ipython3",
   "version": "3.6.8"
  }
 },
 "nbformat": 4,
 "nbformat_minor": 2
}
